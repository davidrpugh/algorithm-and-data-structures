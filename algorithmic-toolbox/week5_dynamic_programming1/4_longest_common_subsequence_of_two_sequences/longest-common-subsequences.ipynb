{
 "cells": [
  {
   "cell_type": "code",
   "execution_count": 5,
   "metadata": {},
   "outputs": [],
   "source": [
    "from Bio import pairwise2\n",
    "\n",
    "from hypothesis import given\n",
    "import hypothesis.strategies as st"
   ]
  },
  {
   "cell_type": "markdown",
   "metadata": {},
   "source": [
    "# Computing longest common sub-sequences\n",
    "\n",
    "Approach uses an implementation of the [Needleman-Wunsch Algorithm](https://en.wikipedia.org/wiki/Needleman%E2%80%93Wunsch_algorithm) to compute the global alignment score and then the observation that this algorithm will reproduce the length of the longest common subsequence by setting the mismatch penatly, $\\mu=0$, and the insertion-deletion penalty, $\\sigma=0$.\n",
    "\n",
    "We can then use a production implementation from [Biopython](https://biopython.org/) to confirm that our algorithm has been correctly implemented."
   ]
  },
  {
   "cell_type": "code",
   "execution_count": 35,
   "metadata": {},
   "outputs": [],
   "source": [
    "def needleman_wunsch_algorithm(s1, s2, mu, sigma):\n",
    "    \"\"\"Implementation of the Needleman-Wunsch Algorithm for computing the global alignment score.\"\"\"\n",
    "    m = len(s1)\n",
    "    n = len(s2)\n",
    "\n",
    "    D = _alignment_score_init(m, n, sigma)\n",
    "\n",
    "    for i in range(m):\n",
    "        for j in range(n):\n",
    "            _alignment_score_step(D, i + 1, j + 1, s1, s2, mu, sigma)\n",
    "    return D[m][n]\n",
    "\n",
    "\n",
    "def _alignment_score_init(m, n, sigma):\n",
    "    D = []\n",
    "    for i in range(m + 1):\n",
    "        D.append([0] * (n + 1))\n",
    "    for i in range(m + 1):\n",
    "        D[i][0] = sigma * i\n",
    "    for j in range(n + 1):\n",
    "        D[0][j] = sigma * j\n",
    "    return D\n",
    "\n",
    "\n",
    "def _alignment_score_step(D, i, j, s1, s2, mu, sigma):\n",
    "    c1 = s1[i - 1]\n",
    "    c2 = s2[j - 1]\n",
    "\n",
    "    insertion = D[i][j - 1] + sigma\n",
    "    deletion = D[i - 1][j] + sigma\n",
    "    match = D[i - 1][j - 1] + 1\n",
    "    mismatch = D[i - 1][j - 1] + mu\n",
    "\n",
    "    if c1 == c2:\n",
    "        D[i][j] = max(insertion, deletion, match)\n",
    "    else:\n",
    "        D[i][j] = max(insertion, deletion, mismatch)\n"
   ]
  },
  {
   "cell_type": "code",
   "execution_count": 37,
   "metadata": {},
   "outputs": [],
   "source": [
    "@given(st.text(alphabet=\"ACTG\", min_size=1, max_size=1000), st.text(alphabet=\"ACTG\", min_size=1, max_size=1000))\n",
    "def test_needleman_wunsch_algorithm(a, b):\n",
    "    assert needleman_wunsch_algorithm(a, b, 0, 0) == pairwise2.align.globalxx(a, b, score_only=True)"
   ]
  },
  {
   "cell_type": "code",
   "execution_count": 38,
   "metadata": {},
   "outputs": [],
   "source": [
    "test_needleman_wunsch_algorithm()"
   ]
  },
  {
   "cell_type": "code",
   "execution_count": null,
   "metadata": {},
   "outputs": [],
   "source": []
  }
 ],
 "metadata": {
  "kernelspec": {
   "display_name": "Python 3",
   "language": "python",
   "name": "python3"
  },
  "language_info": {
   "codemirror_mode": {
    "name": "ipython",
    "version": 3
   },
   "file_extension": ".py",
   "mimetype": "text/x-python",
   "name": "python",
   "nbconvert_exporter": "python",
   "pygments_lexer": "ipython3",
   "version": "3.6.5"
  }
 },
 "nbformat": 4,
 "nbformat_minor": 2
}
