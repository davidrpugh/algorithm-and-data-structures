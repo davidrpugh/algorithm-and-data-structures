{
 "cells": [
  {
   "cell_type": "code",
   "execution_count": 1,
   "metadata": {},
   "outputs": [],
   "source": [
    "from hypothesis import given\n",
    "import hypothesis.strategies as st"
   ]
  },
  {
   "cell_type": "markdown",
   "metadata": {},
   "source": [
    "# Finding a majority element in a list"
   ]
  },
  {
   "cell_type": "markdown",
   "metadata": {},
   "source": [
    "## Is a particular element a majority element?\n",
    "\n",
    "First, note that checking whether a given element is a majority element can be done in $O(n)$ time where $n$ is the size of the input list."
   ]
  },
  {
   "cell_type": "code",
   "execution_count": 2,
   "metadata": {},
   "outputs": [],
   "source": [
    "def is_majority_element(element, a):\n",
    "    return a.count(element) > len(a) // 2"
   ]
  },
  {
   "cell_type": "markdown",
   "metadata": {},
   "source": [
    "## Naive solution\n",
    "\n",
    "The naive solution simply iterates over all of the elements in the list, checks whether an element is a majority element, if so algorithm returns. Since there are $n$ elements in the input list and checking whether an element is a majority element is $O(n)$, then naive solution is $O(n^2)$."
   ]
  },
  {
   "cell_type": "code",
   "execution_count": 38,
   "metadata": {},
   "outputs": [],
   "source": [
    "def naive_algorithm(a):\n",
    "    \"\"\"Naive implementation of finding a majority element.\"\"\"\n",
    "    for element in a:\n",
    "        if is_majority_element(element, a):\n",
    "            return element\n",
    "    return -1"
   ]
  },
  {
   "cell_type": "markdown",
   "metadata": {},
   "source": [
    "## Divide and Conquer solution\n",
    "\n",
    "Key insight is that if a list of length $n$ contains a majority element, then that same element is also a majority element for one of its halves."
   ]
  },
  {
   "cell_type": "code",
   "execution_count": 39,
   "metadata": {},
   "outputs": [],
   "source": [
    "def _divide_and_conquer(a, left, right):\n",
    "    \"\"\"Divide and Conquer algorithm for finding a majority element.\"\"\"\n",
    "    if left == right:\n",
    "        majority_element = -1\n",
    "    elif left + 1 == right:\n",
    "        majority_element = a[left]\n",
    "    else:\n",
    "        m = left + (right - left) // 2\n",
    "        left_element = _get_majority_element(a, left, m)\n",
    "        right_element = _get_majority_element(a, m, right)\n",
    "\n",
    "        # merge the left and right elements...\n",
    "        b = a[left:right]\n",
    "        if left_element == -1 and right_element != -1:\n",
    "            majority_element = right_element if b.count(right_element) > len(b) // 2 else -1\n",
    "        elif left_element != -1 and right_element == -1:\n",
    "            majority_element = left_element if b.count(left_element) > len(b) // 2 else -1\n",
    "        elif left_element != -1 and right_element != -1:\n",
    "            if b.count(left_element) > len(b) // 2:\n",
    "                majority_element = left_element\n",
    "            elif b.count(right_element) > len(b) // 2:\n",
    "                majority_element = right_element\n",
    "            else:\n",
    "                majority_element = -1\n",
    "        else:\n",
    "            majority_element = -1\n",
    "\n",
    "    return majority_element\n",
    "\n",
    "\n",
    "def divide_and_conquer_algorithm(a):\n",
    "    return _get_majority_element(a, 0, len(a))"
   ]
  },
  {
   "cell_type": "code",
   "execution_count": 40,
   "metadata": {},
   "outputs": [],
   "source": [
    "@given(a=st.lists(st.integers()))\n",
    "def test_divide_and_conquer_algorithm(a):\n",
    "    expected = naive_algorithm(a)\n",
    "    actual = divide_and_conquer_algorithm(a)\n",
    "    msg = \"Expected result {}; actual result {}.\".format(expected, actual)\n",
    "    assert expected == actual, msg"
   ]
  },
  {
   "cell_type": "code",
   "execution_count": 41,
   "metadata": {},
   "outputs": [],
   "source": [
    "test_divide_and_conquer_algorithm()"
   ]
  },
  {
   "cell_type": "markdown",
   "metadata": {},
   "source": [
    "## Boyer-Moore Algorithm\n",
    "\n",
    "The [Boyer-Moore algorithm](https://en.wikipedia.org/wiki/Boyer%E2%80%93Moore_majority_vote_algorithm) is a $O(n)$ algorithm for find a majority element in a sequence (if one exists).  The algorithm first passes throught the data looking for a majority element. If one exists, it will be found during this pass. However, if there is no majority element, the first pass through the data will return a false positive.  Thus a second pass through the data is required to make certain that the element returned by the first pass is in fact a majority element. Since both parts of the Boyer-Moore algorithm are $O(n)$, the overall algorithm is $O(n)$."
   ]
  },
  {
   "cell_type": "code",
   "execution_count": 35,
   "metadata": {},
   "outputs": [],
   "source": [
    "def _candidate_majority_element(a):\n",
    "    candidate, count = a[0], 1\n",
    "    for element in a:\n",
    "        if candidate == element:\n",
    "            count += 1\n",
    "        else:\n",
    "            count -= 1\n",
    "        if count == 0:\n",
    "            candidate, count = element, 1\n",
    "    return candidate\n",
    "\n",
    "\n",
    "def boyer_moore_algorithm(a):\n",
    "    if len(a) == 0:\n",
    "        majority_element = -1\n",
    "    else:\n",
    "        candidate_element = _candidate_majority_element(a)\n",
    "        if is_majority_element(candidate_element, a):\n",
    "            majority_element = candidate_element\n",
    "        else:\n",
    "            majority_element = -1\n",
    "    return majority_element\n"
   ]
  },
  {
   "cell_type": "code",
   "execution_count": 36,
   "metadata": {},
   "outputs": [],
   "source": [
    "@given(a=st.lists(st.integers()))\n",
    "def test_boyer_moore_algorithm(a):\n",
    "    expected = naive_get_majority_element(a)\n",
    "    actual = boyer_moore_algorithm(a)\n",
    "    msg = \"Expected result {}; actual result {}.\".format(expected, actual)\n",
    "    assert expected == actual, msg"
   ]
  },
  {
   "cell_type": "code",
   "execution_count": 37,
   "metadata": {},
   "outputs": [],
   "source": [
    "test_boyer_moore_algorithm()"
   ]
  },
  {
   "cell_type": "code",
   "execution_count": null,
   "metadata": {},
   "outputs": [],
   "source": []
  }
 ],
 "metadata": {
  "kernelspec": {
   "display_name": "Python 3",
   "language": "python",
   "name": "python3"
  },
  "language_info": {
   "codemirror_mode": {
    "name": "ipython",
    "version": 3
   },
   "file_extension": ".py",
   "mimetype": "text/x-python",
   "name": "python",
   "nbconvert_exporter": "python",
   "pygments_lexer": "ipython3",
   "version": "3.6.5"
  }
 },
 "nbformat": 4,
 "nbformat_minor": 2
}
