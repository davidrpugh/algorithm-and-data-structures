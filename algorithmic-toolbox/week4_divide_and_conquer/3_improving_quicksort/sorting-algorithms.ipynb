{
 "cells": [
  {
   "cell_type": "code",
   "execution_count": 2,
   "metadata": {},
   "outputs": [],
   "source": [
    "from hypothesis import given\n",
    "import hypothesis.strategies as st"
   ]
  },
  {
   "cell_type": "markdown",
   "metadata": {},
   "source": [
    "# Sorting Algorithms\n",
    "\n",
    "In this notebook I implement various sorting algorithms, test that they are correct using property based testing as implemented by the [Hypothesis](https://hypothesis.readthedocs.io/en/latest/) library. I then compare the performance of my implementation with the Python standard library built-in `sorted` function."
   ]
  },
  {
   "cell_type": "markdown",
   "metadata": {},
   "source": [
    "## Selection Sort"
   ]
  },
  {
   "cell_type": "code",
   "execution_count": 3,
   "metadata": {},
   "outputs": [],
   "source": [
    "def _swap(sequence, i, j):\n",
    "    \"\"\"Swap element in position i with element in position j.\"\"\"\n",
    "    tmp = sequence[i]\n",
    "    sequence[i] = sequence[j]\n",
    "    sequence[j] = tmp\n",
    "\n",
    "\n",
    "def selection_sort(sequence):\n",
    "    \"\"\"Implementation of selection sort algorithm.\"\"\"\n",
    "    n = len(sequence)\n",
    "    for i in range(n):\n",
    "        min_index = i\n",
    "        for j in range(i + 1, n):\n",
    "            if sequence[j] < sequence[min_index]:\n",
    "                min_index = j\n",
    "        _swap(sequence, i, min_index)\n"
   ]
  },
  {
   "cell_type": "code",
   "execution_count": 11,
   "metadata": {},
   "outputs": [],
   "source": [
    "@given(a=st.lists(st.integers()))\n",
    "def test_selection_sort(a):\n",
    "    sorted_a = sorted(a)\n",
    "    selection_sort(a)\n",
    "    assert sorted_a == a "
   ]
  },
  {
   "cell_type": "code",
   "execution_count": 12,
   "metadata": {},
   "outputs": [],
   "source": [
    "test_selection_sort()"
   ]
  },
  {
   "cell_type": "markdown",
   "metadata": {},
   "source": [
    "## Merge Sort"
   ]
  },
  {
   "cell_type": "code",
   "execution_count": 13,
   "metadata": {},
   "outputs": [],
   "source": [
    "def _merge(sequence1, sequence2):\n",
    "    \"\"\"Merge two sequences.\"\"\"\n",
    "    merged = []\n",
    "    while len(sequence1) > 0 and len(sequence2) > 0:\n",
    "        b = sequence1[0]\n",
    "        c = sequence2[0]\n",
    "        if b <= c:\n",
    "            sequence1 = sequence1[1:]\n",
    "            merged.append(b)\n",
    "        else:\n",
    "            sequence2 = sequence2[1:]\n",
    "            merged.append(c)\n",
    "    return merged + sequence1 + sequence2\n",
    "\n",
    "\n",
    "def merge_sort(sequence):\n",
    "    \"\"\"Implementation of the merge sort algorithm.\"\"\"\n",
    "    n = len(sequence)\n",
    "    if n == 1:\n",
    "        sorted_sequence = sequence\n",
    "    else:\n",
    "        m = n // 2\n",
    "        left = merge_sort(sequence[:m])\n",
    "        right = merge_sort(sequence[m:])\n",
    "        sorted_sequence = _merge(left, right)\n",
    "    return sorted_sequence"
   ]
  },
  {
   "cell_type": "code",
   "execution_count": 14,
   "metadata": {},
   "outputs": [],
   "source": [
    "@given(a=st.lists(st.integers()))\n",
    "def test_merge_sort(a):\n",
    "    sorted_a = sorted(a)\n",
    "    assert sorted(a) == merge_sort(a) "
   ]
  },
  {
   "cell_type": "markdown",
   "metadata": {},
   "source": [
    "## Quick Sort"
   ]
  },
  {
   "cell_type": "code",
   "execution_count": 33,
   "metadata": {},
   "outputs": [],
   "source": [
    "import random\n",
    "\n",
    "\n",
    "def _partition(sequence, l, r):\n",
    "    v = sequence[l]\n",
    "    j = l;\n",
    "    for i in range(l + 1, r + 1):\n",
    "        if sequence[i] <= v:\n",
    "            j += 1\n",
    "            _swap(sequence, i, j)\n",
    "    _swap(sequence, l, j)\n",
    "    return j\n",
    "\n",
    "\n",
    "def _quick_sort(sequence, l, r):\n",
    "    if l >= r:\n",
    "        return None\n",
    "    else:\n",
    "        p = random.randint(l, r)\n",
    "        _swap(sequence, l, p)\n",
    "        m = _partition(sequence, l, r)\n",
    "        _quick_sort(sequence, l, m - 1)\n",
    "        _quick_sort(sequence, m + 1, r)\n",
    "\n",
    "\n",
    "def _tail_recursive_quick_sort(sequence, l, r):\n",
    "    while l < r:\n",
    "        p = random.randint(l, r)\n",
    "        _swap(sequence, l, p)\n",
    "        m = _partition(sequence, l, r)\n",
    "        if (m - l) < (r - m):\n",
    "            _tail_recursive_quick_sort(sequence, l, m - 1)\n",
    "            l = m + 1\n",
    "        else:\n",
    "            _tail_recursive_quick_sort(sequence, m + 1, r)\n",
    "            r = m - 1\n",
    "\n",
    "\n",
    "def quick_sort(sequence):\n",
    "    \"\"\"Implementation of quick sort algorithm.\"\"\"\n",
    "    _quick_sort(sequence, 0, len(sequence) - 1)\n",
    "\n",
    "    \n",
    "\n",
    "def tail_recursive_quick_sort(sequence):\n",
    "    \"\"\"Implementation of quick sort algorithm.\"\"\"\n",
    "    _tail_recursive_quick_sort(sequence, 0, len(sequence) - 1)\n"
   ]
  },
  {
   "cell_type": "code",
   "execution_count": 34,
   "metadata": {},
   "outputs": [],
   "source": [
    "@given(a=st.lists(st.integers()))\n",
    "def test_quick_sort(a):\n",
    "    sorted_a = sorted(a)\n",
    "    quick_sort(a)\n",
    "    assert sorted_a == a \n",
    "\n",
    "    \n",
    "@given(a=st.lists(st.integers()))\n",
    "def test_tail_recursive_quick_sort(a):\n",
    "    sorted_a = sorted(a)\n",
    "    tail_recursive_quick_sort(a)\n",
    "    assert sorted_a == a "
   ]
  },
  {
   "cell_type": "code",
   "execution_count": 35,
   "metadata": {},
   "outputs": [],
   "source": [
    "test_quick_sort()"
   ]
  },
  {
   "cell_type": "code",
   "execution_count": 36,
   "metadata": {},
   "outputs": [],
   "source": [
    "test_tail_recursive_quick_sort()"
   ]
  },
  {
   "cell_type": "markdown",
   "metadata": {},
   "source": [
    "## Quick Sort 3"
   ]
  },
  {
   "cell_type": "code",
   "execution_count": 25,
   "metadata": {},
   "outputs": [],
   "source": [
    "def _dijkstra_three_way_partitioning(sequence, l, r):\n",
    "    \"\"\"\n",
    "    Return indices m1, m2 that partion a sequence into three segments.\n",
    "\n",
    "    The first segment sequence[:m1] includes all of the elements that are\n",
    "    strictly less than sequence[0]; second segment sequence[m1:m2+1] contains\n",
    "    all of the elements of the sequence that are equal to sequence[0]; the\n",
    "    final segment contains all the elements of the sequence that are strictly\n",
    "    greater than sequence[0].\n",
    "\n",
    "    \"\"\"\n",
    "    v = sequence[l]\n",
    "    lt, gt = l, r\n",
    "    i = lt\n",
    "    while i <= gt:\n",
    "        if sequence[i] < v:\n",
    "            _swap(sequence, i, lt)\n",
    "            lt += 1\n",
    "            i += 1\n",
    "        elif sequence[i] > v:\n",
    "            _swap(sequence, i, gt)\n",
    "            gt -= 1\n",
    "        else:\n",
    "            i += 1\n",
    "\n",
    "    return lt, gt\n",
    "\n",
    "\n",
    "def _quick_sort_3(sequence, l, r):\n",
    "    if l >= r:\n",
    "        return None\n",
    "    else:\n",
    "        p = random.randint(l, r)\n",
    "        _swap(sequence, l, p)\n",
    "        m1, m2 = _dijkstra_three_way_partitioning(sequence, l, r)\n",
    "        _quick_sort_3(sequence, l, m1 - 1)\n",
    "        _quick_sort_3(sequence, m2 + 1, r)\n",
    "\n",
    "\n",
    "def _tail_recursive_quick_sort_3(sequence, l, r):\n",
    "    while l < r:\n",
    "        p = random.randint(l, r)\n",
    "        _swap(sequence, l, p)\n",
    "        m1, m2 = _dijkstra_three_way_partitioning(sequence, l, r)\n",
    "        if (m1 - l) < (r - m2):\n",
    "            _tail_recursive_quick_sort_3(sequence, l, m1 - 1)\n",
    "            l = m1 + 1\n",
    "        else:\n",
    "            _tail_recursive_quick_sort_3(sequence, m2 + 1, r)\n",
    "            r = m2 - 1\n",
    "\n",
    "\n",
    "def quick_sort_3(sequence):\n",
    "    \"\"\"Implementation of quick sort algorithm.\"\"\"\n",
    "    _quick_sort_3(sequence, 0, len(sequence) - 1)\n",
    "    \n",
    "\n",
    "def tail_recursive_quick_sort_3(sequence):\n",
    "    \"\"\"Tail recursive implementation of quick sort algorithm.\"\"\"\n",
    "    _tail_recursive_quick_sort_3(sequence, 0, len(sequence) - 1)"
   ]
  },
  {
   "cell_type": "code",
   "execution_count": 26,
   "metadata": {},
   "outputs": [],
   "source": [
    "@given(a=st.lists(st.integers()))\n",
    "def test_quick_sort_3(a):\n",
    "    sorted_a = sorted(a)\n",
    "    quick_sort_3(a)\n",
    "    assert sorted_a == a \n",
    "    \n",
    "\n",
    "@given(a=st.lists(st.integers()))\n",
    "def test_tail_recursive_quick_sort_3(a):\n",
    "    sorted_a = sorted(a)\n",
    "    tail_recursive_quick_sort_3(a)\n",
    "    assert sorted_a == a "
   ]
  },
  {
   "cell_type": "code",
   "execution_count": 24,
   "metadata": {},
   "outputs": [],
   "source": [
    "test_quick_sort_3()"
   ]
  },
  {
   "cell_type": "code",
   "execution_count": 27,
   "metadata": {},
   "outputs": [],
   "source": [
    "test_tail_recursive_quick_sort_3()"
   ]
  },
  {
   "cell_type": "markdown",
   "metadata": {},
   "source": [
    "# Performance\n",
    "\n",
    "Selection Sort is $O(n^2)$ and should generally perform poorly relative to the alternatives for long sequences.  However it is possible that for sorting short sequences, selection sort can out perform other alternatives."
   ]
  },
  {
   "cell_type": "code",
   "execution_count": 56,
   "metadata": {},
   "outputs": [],
   "source": [
    "random_sequence = [random.randint(-100, 100) for i in range(1000)]"
   ]
  },
  {
   "cell_type": "code",
   "execution_count": 57,
   "metadata": {},
   "outputs": [
    {
     "name": "stdout",
     "output_type": "stream",
     "text": [
      "119 µs ± 418 ns per loop (mean ± std. dev. of 7 runs, 10000 loops each)\n"
     ]
    }
   ],
   "source": [
    "%timeit sorted(random_sequence)"
   ]
  },
  {
   "cell_type": "code",
   "execution_count": 58,
   "metadata": {},
   "outputs": [
    {
     "name": "stdout",
     "output_type": "stream",
     "text": [
      "32.2 ms ± 708 µs per loop (mean ± std. dev. of 7 runs, 10 loops each)\n"
     ]
    }
   ],
   "source": [
    "%timeit selection_sort(random_sequence)"
   ]
  },
  {
   "cell_type": "code",
   "execution_count": 59,
   "metadata": {},
   "outputs": [
    {
     "name": "stdout",
     "output_type": "stream",
     "text": [
      "2.67 ms ± 54.3 µs per loop (mean ± std. dev. of 7 runs, 100 loops each)\n"
     ]
    }
   ],
   "source": [
    "%timeit merge_sort(random_sequence)"
   ]
  },
  {
   "cell_type": "code",
   "execution_count": 60,
   "metadata": {},
   "outputs": [
    {
     "name": "stdout",
     "output_type": "stream",
     "text": [
      "3.36 ms ± 7.99 µs per loop (mean ± std. dev. of 7 runs, 100 loops each)\n"
     ]
    }
   ],
   "source": [
    "%timeit quick_sort(random_sequence)"
   ]
  },
  {
   "cell_type": "code",
   "execution_count": 61,
   "metadata": {},
   "outputs": [
    {
     "name": "stdout",
     "output_type": "stream",
     "text": [
      "3.41 ms ± 66.9 µs per loop (mean ± std. dev. of 7 runs, 100 loops each)\n"
     ]
    }
   ],
   "source": [
    "%timeit tail_recursive_quick_sort(random_sequence)"
   ]
  },
  {
   "cell_type": "code",
   "execution_count": 62,
   "metadata": {},
   "outputs": [
    {
     "name": "stdout",
     "output_type": "stream",
     "text": [
      "2.35 ms ± 16.4 µs per loop (mean ± std. dev. of 7 runs, 100 loops each)\n"
     ]
    }
   ],
   "source": [
    "%timeit quick_sort_3(random_sequence)"
   ]
  },
  {
   "cell_type": "code",
   "execution_count": 63,
   "metadata": {},
   "outputs": [
    {
     "name": "stdout",
     "output_type": "stream",
     "text": [
      "4.47 ms ± 13.4 µs per loop (mean ± std. dev. of 7 runs, 100 loops each)\n"
     ]
    }
   ],
   "source": [
    "%timeit tail_recursive_quick_sort_3(random_sequence)"
   ]
  },
  {
   "cell_type": "markdown",
   "metadata": {},
   "source": [
    "# Numba\n",
    "\n",
    "How much can [Numba](https://numba.pydata.org/) improve the performance of my Python implementation of Quick Sort? Significantly! Just adding the `@jit` decorator is enough for my Python implementation of Quick Sort to out-perform the standard library's implementation by a factor of 2x!"
   ]
  },
  {
   "cell_type": "code",
   "execution_count": 64,
   "metadata": {},
   "outputs": [],
   "source": [
    "from numba import jit\n",
    "\n",
    "\n",
    "@jit\n",
    "def _swap(sequence, i, j):\n",
    "    \"\"\"Swap element in position i with element in position j.\"\"\"\n",
    "    tmp = sequence[i]\n",
    "    sequence[i] = sequence[j]\n",
    "    sequence[j] = tmp\n",
    "\n",
    "@jit\n",
    "def _dijkstra_three_way_partitioning(sequence, l, r):\n",
    "    \"\"\"\n",
    "    Return indices m1, m2 that partion a sequence into three segments.\n",
    "\n",
    "    The first segment sequence[:m1] includes all of the elements that are\n",
    "    strictly less than sequence[0]; second segment sequence[m1:m2+1] contains\n",
    "    all of the elements of the sequence that are equal to sequence[0]; the\n",
    "    final segment contains all the elements of the sequence that are strictly\n",
    "    greater than sequence[0].\n",
    "\n",
    "    \"\"\"\n",
    "    v = sequence[l]\n",
    "    lt, gt = l, r\n",
    "    i = lt\n",
    "    while i <= gt:\n",
    "        if sequence[i] < v:\n",
    "            _swap(sequence, i, lt)\n",
    "            lt += 1\n",
    "            i += 1\n",
    "        elif sequence[i] > v:\n",
    "            _swap(sequence, i, gt)\n",
    "            gt -= 1\n",
    "        else:\n",
    "            i += 1\n",
    "\n",
    "    return lt, gt\n",
    "\n",
    "@jit\n",
    "def _quick_sort_3(sequence, l, r):\n",
    "    if l >= r:\n",
    "        return None\n",
    "    else:\n",
    "        p = random.randint(l, r)\n",
    "        _swap(sequence, l, p)\n",
    "        m1, m2 = _dijkstra_three_way_partitioning(sequence, l, r)\n",
    "        _quick_sort_3(sequence, l, m1 - 1)\n",
    "        _quick_sort_3(sequence, m2 + 1, r)\n",
    "\n",
    "@jit\n",
    "def quick_sort_3(sequence):\n",
    "    \"\"\"Implementation of quick sort algorithm.\"\"\"\n",
    "    _quick_sort_3(sequence, 0, len(sequence) - 1)\n",
    "    \n"
   ]
  },
  {
   "cell_type": "code",
   "execution_count": 65,
   "metadata": {},
   "outputs": [
    {
     "name": "stdout",
     "output_type": "stream",
     "text": [
      "51.3 µs ± 4.28 µs per loop (mean ± std. dev. of 7 runs, 1 loop each)\n"
     ]
    }
   ],
   "source": [
    "# numba compilation improves on Python built-in by factor of 2!\n",
    "%timeit quick_sort_3(random_sequence)"
   ]
  },
  {
   "cell_type": "code",
   "execution_count": null,
   "metadata": {},
   "outputs": [],
   "source": []
  }
 ],
 "metadata": {
  "kernelspec": {
   "display_name": "Python 3",
   "language": "python",
   "name": "python3"
  },
  "language_info": {
   "codemirror_mode": {
    "name": "ipython",
    "version": 3
   },
   "file_extension": ".py",
   "mimetype": "text/x-python",
   "name": "python",
   "nbconvert_exporter": "python",
   "pygments_lexer": "ipython3",
   "version": "3.6.5"
  }
 },
 "nbformat": 4,
 "nbformat_minor": 2
}
