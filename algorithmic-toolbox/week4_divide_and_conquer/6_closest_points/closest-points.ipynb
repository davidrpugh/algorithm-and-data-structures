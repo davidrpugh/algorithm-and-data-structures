{
 "cells": [
  {
   "cell_type": "code",
   "execution_count": 1,
   "metadata": {},
   "outputs": [],
   "source": [
    "import math\n",
    "import random\n",
    "\n",
    "from hypothesis import given\n",
    "import hypothesis.strategies as st"
   ]
  },
  {
   "cell_type": "markdown",
   "metadata": {},
   "source": [
    "# Closest pair of points problem\n",
    "\n",
    "Problem is two find the minimum distance between two different points in a collection of points.  A naive solution to this problem would enumerate all possible pairs of points, compute their distances, and then find the minimum. This naive solution runs in $O(n^2)$ time.  Here is a naive implementation."
   ]
  },
  {
   "cell_type": "code",
   "execution_count": 2,
   "metadata": {},
   "outputs": [],
   "source": [
    "def _euclidean_distance(p1, p2):\n",
    "    d = ((p1[0] - p2[0])**2 + (p1[1] - p2[1])**2)**0.5\n",
    "    return d\n",
    "\n",
    "\n",
    "def brute_force_minimum_distance(points):\n",
    "    \"\"\"Brute force algorithm for finding minimum distance is O(n^2).\"\"\"\n",
    "    if len(points) < 2:\n",
    "        return float(\"inf\")\n",
    "    else:\n",
    "        n = len(points)\n",
    "        distances = []\n",
    "        for i, p1 in enumerate(points):\n",
    "            for j, p2 in enumerate(points):\n",
    "                if i != j:\n",
    "                    d = _euclidean_distance(p1, p2)\n",
    "                    distances.append(d)\n",
    "        return min(distances)\n"
   ]
  },
  {
   "cell_type": "markdown",
   "metadata": {},
   "source": [
    "There is a better alternative! In particular there is an $O(n \\log n)$ algorithm for finding the minimum distance between two different points! Wikipedia has a nice description of the [closest pair of points problem](https://en.m.wikipedia.org/wiki/Closest_pair_of_points_problem?) and this efficient solution.  The key to an efficient solution is to figure out a way to find the minimum distance of between any two points in the \"strip\" between the two regions whilst doing on and $O(m)$ amount of work (where $m$ is the number of points in the \"strip\" region. "
   ]
  },
  {
   "cell_type": "code",
   "execution_count": 13,
   "metadata": {},
   "outputs": [],
   "source": [
    "def efficient_minimum_distance(points):\n",
    "    \"\"\"Efficient algorithm for finding minimum distance is O(n log n).\"\"\"\n",
    "    if len(points) < 2:\n",
    "        return float(\"inf\")\n",
    "    else:\n",
    "        sorted_points = sorted(points, key=lambda p: (p[0], -p[1]))\n",
    "        d = _minimum_distance_between(sorted_points)\n",
    "        return d\n",
    "\n",
    "\n",
    "def _minimum_distance_between(sorted_points):\n",
    "    \"\"\"Find the minimum distance between two points.\"\"\"\n",
    "    n = len(sorted_points)\n",
    "    if n < 2:\n",
    "        return float(\"inf\")\n",
    "    elif n == 2:\n",
    "        p1, p2 = sorted_points\n",
    "        d = _euclidean_distance(p1, p2)\n",
    "        return d\n",
    "    else:\n",
    "        m = n // 2\n",
    "        s1, s2 = sorted_points[:m], sorted_points[m:]\n",
    "        d1 = _minimum_distance_between(s1)\n",
    "        d2 = _minimum_distance_between(s2)\n",
    "        d = min(d1, d2)\n",
    "\n",
    "        \n",
    "        median_x_coord = _find_median_x_coord(sorted_points)\n",
    "        strip_points = [p for p in sorted_points  if abs(p[0] - median_x_coord) <= d]\n",
    "        d_prime = float(\"inf\")\n",
    "        for i, p1 in enumerate(strip_points):\n",
    "            if i + 7 < len(strip_points):\n",
    "                for p2 in strip_points[i + 1:i + 7]:\n",
    "                    e = _euclidean_distance(p1, p2)\n",
    "                    if e < d_prime:\n",
    "                        d_prime = e\n",
    "            else:\n",
    "                for p2 in strip_points[i + 1:]:\n",
    "                    e = _euclidean_distance(p1, p2)\n",
    "                    if e < d_prime:\n",
    "                        d_prime = e\n",
    "        return min(d, d_prime)\n",
    "\n",
    "\n",
    "def _find_median_x_coord(sorted_points):\n",
    "    n = len(sorted_points)\n",
    "    idx = (n - 1) // 2\n",
    "    if n % 2 == 1:\n",
    "        x, _ = sorted_points[idx]\n",
    "        return x\n",
    "    else:\n",
    "        x1, _ = sorted_points[idx]\n",
    "        x2, _ = sorted_points[idx + 1]\n",
    "        return (x1 + x2) / 2.0\n",
    "\n"
   ]
  },
  {
   "cell_type": "code",
   "execution_count": 14,
   "metadata": {},
   "outputs": [],
   "source": [
    "@given(st.lists(st.tuples(st.integers(), st.integers())))\n",
    "def test_efficient_minimum_distance(points):\n",
    "    expected_result = brute_force_minimum_distance(points)\n",
    "    actual_result = efficient_minimum_distance(points)\n",
    "    msg = \"Points {}; expected distance {}; actual distance {}.\".format(points, expected_result, actual_result)\n",
    "    assert math.isclose(expected_result, actual_result), msg"
   ]
  },
  {
   "cell_type": "code",
   "execution_count": 15,
   "metadata": {},
   "outputs": [],
   "source": [
    "test_efficient_minimum_distance()"
   ]
  },
  {
   "cell_type": "code",
   "execution_count": 16,
   "metadata": {},
   "outputs": [
    {
     "name": "stdout",
     "output_type": "stream",
     "text": [
      "183 ms ± 334 µs per loop (mean ± std. dev. of 7 runs, 10 loops each)\n"
     ]
    }
   ],
   "source": [
    "%timeit efficient_minimum_distance([(random.randint(-1000, 1000), random.randint(-1000, 1000)) for _ in range(10000)])"
   ]
  },
  {
   "cell_type": "code",
   "execution_count": null,
   "metadata": {},
   "outputs": [],
   "source": []
  }
 ],
 "metadata": {
  "kernelspec": {
   "display_name": "Python 3",
   "language": "python",
   "name": "python3"
  },
  "language_info": {
   "codemirror_mode": {
    "name": "ipython",
    "version": 3
   },
   "file_extension": ".py",
   "mimetype": "text/x-python",
   "name": "python",
   "nbconvert_exporter": "python",
   "pygments_lexer": "ipython3",
   "version": "3.6.5"
  }
 },
 "nbformat": 4,
 "nbformat_minor": 2
}
